{
 "cells": [
  {
   "cell_type": "code",
   "execution_count": 1,
   "metadata": {},
   "outputs": [],
   "source": [
    "%load_ext autoreload\n",
    "%autoreload 2\n",
    "from main  import *"
   ]
  },
  {
   "cell_type": "code",
   "execution_count": 2,
   "metadata": {},
   "outputs": [
    {
     "ename": "NameError",
     "evalue": "name 'Config' is not defined",
     "output_type": "error",
     "traceback": [
      "\u001b[1;31m---------------------------------------------------------------------------\u001b[0m",
      "\u001b[1;31mNameError\u001b[0m                                 Traceback (most recent call last)",
      "\u001b[1;32m<ipython-input-2-0a11a4ffefff>\u001b[0m in \u001b[0;36m<module>\u001b[1;34m\u001b[0m\n\u001b[1;32m----> 1\u001b[1;33m \u001b[0mopt\u001b[0m \u001b[1;33m=\u001b[0m \u001b[0mConfig\u001b[0m\u001b[1;33m(\u001b[0m\u001b[1;33m)\u001b[0m\u001b[1;33m\u001b[0m\u001b[1;33m\u001b[0m\u001b[0m\n\u001b[0m\u001b[0;32m      2\u001b[0m \u001b[0mopt\u001b[0m\u001b[1;33m.\u001b[0m\u001b[0mcaption_data_path\u001b[0m \u001b[1;33m=\u001b[0m \u001b[1;34m'caption.pth'\u001b[0m \u001b[1;31m# 原始数据\u001b[0m\u001b[1;33m\u001b[0m\u001b[1;33m\u001b[0m\u001b[0m\n\u001b[0;32m      3\u001b[0m \u001b[0mopt\u001b[0m\u001b[1;33m.\u001b[0m\u001b[0mtest_img\u001b[0m \u001b[1;33m=\u001b[0m \u001b[1;34m'img/example.jpeg'\u001b[0m \u001b[1;31m# 输入图片\u001b[0m\u001b[1;33m\u001b[0m\u001b[1;33m\u001b[0m\u001b[0m\n\u001b[0;32m      4\u001b[0m \u001b[0mopt\u001b[0m\u001b[1;33m.\u001b[0m\u001b[0muse_gpu\u001b[0m \u001b[1;33m=\u001b[0m \u001b[1;32mFalse\u001b[0m  \u001b[1;31m# 是否使用GPU(没必要)\u001b[0m\u001b[1;33m\u001b[0m\u001b[1;33m\u001b[0m\u001b[0m\n\u001b[0;32m      5\u001b[0m \u001b[0mopt\u001b[0m\u001b[1;33m.\u001b[0m\u001b[0mmodel_ckpt\u001b[0m\u001b[1;33m=\u001b[0m\u001b[1;34m'caption_0914_1947'\u001b[0m \u001b[1;31m# 预训练的模型\u001b[0m\u001b[1;33m\u001b[0m\u001b[1;33m\u001b[0m\u001b[0m\n",
      "\u001b[1;31mNameError\u001b[0m: name 'Config' is not defined"
     ]
    }
   ],
   "source": [
    "opt = Config()    \n",
    "opt.caption_data_path = 'caption.pth' # 原始数据\n",
    "opt.test_img = 'img/example.jpeg' # 输入图片\n",
    "opt.use_gpu = False  # 是否使用GPU(没必要)\n",
    "opt.model_ckpt='caption_0914_1947' # 预训练的模型"
   ]
  },
  {
   "cell_type": "code",
   "execution_count": 3,
   "metadata": {
    "scrolled": true
   },
   "outputs": [
    {
     "ename": "NameError",
     "evalue": "name 't' is not defined",
     "output_type": "error",
     "traceback": [
      "\u001b[1;31m---------------------------------------------------------------------------\u001b[0m",
      "\u001b[1;31mNameError\u001b[0m                                 Traceback (most recent call last)",
      "\u001b[1;32m<ipython-input-3-787810f41e13>\u001b[0m in \u001b[0;36m<module>\u001b[1;34m\u001b[0m\n\u001b[0;32m      1\u001b[0m \u001b[1;31m# 数据预处理\u001b[0m\u001b[1;33m\u001b[0m\u001b[1;33m\u001b[0m\u001b[1;33m\u001b[0m\u001b[0m\n\u001b[1;32m----> 2\u001b[1;33m \u001b[0mdata\u001b[0m \u001b[1;33m=\u001b[0m \u001b[0mt\u001b[0m\u001b[1;33m.\u001b[0m\u001b[0mload\u001b[0m\u001b[1;33m(\u001b[0m\u001b[0mopt\u001b[0m\u001b[1;33m.\u001b[0m\u001b[0mcaption_data_path\u001b[0m\u001b[1;33m)\u001b[0m\u001b[1;33m\u001b[0m\u001b[1;33m\u001b[0m\u001b[0m\n\u001b[0m\u001b[0;32m      3\u001b[0m \u001b[0mword2ix\u001b[0m\u001b[1;33m,\u001b[0m\u001b[0mix2word\u001b[0m \u001b[1;33m=\u001b[0m \u001b[0mdata\u001b[0m\u001b[1;33m[\u001b[0m\u001b[1;34m'word2ix'\u001b[0m\u001b[1;33m]\u001b[0m\u001b[1;33m,\u001b[0m\u001b[0mdata\u001b[0m\u001b[1;33m[\u001b[0m\u001b[1;34m'ix2word'\u001b[0m\u001b[1;33m]\u001b[0m\u001b[1;33m\u001b[0m\u001b[1;33m\u001b[0m\u001b[0m\n\u001b[0;32m      4\u001b[0m \u001b[1;33m\u001b[0m\u001b[0m\n\u001b[0;32m      5\u001b[0m \u001b[0mIMAGENET_MEAN\u001b[0m \u001b[1;33m=\u001b[0m  \u001b[1;33m[\u001b[0m\u001b[1;36m0.485\u001b[0m\u001b[1;33m,\u001b[0m \u001b[1;36m0.456\u001b[0m\u001b[1;33m,\u001b[0m \u001b[1;36m0.406\u001b[0m\u001b[1;33m]\u001b[0m\u001b[1;33m\u001b[0m\u001b[1;33m\u001b[0m\u001b[0m\n",
      "\u001b[1;31mNameError\u001b[0m: name 't' is not defined"
     ]
    }
   ],
   "source": [
    "# 数据预处理\n",
    "data = t.load(opt.caption_data_path)\n",
    "word2ix,ix2word = data['word2ix'],data['ix2word']\n",
    "\n",
    "IMAGENET_MEAN =  [0.485, 0.456, 0.406]\n",
    "IMAGENET_STD =  [0.229, 0.224, 0.225]\n",
    "normalize =  tv.transforms.Normalize(mean=IMAGENET_MEAN,std=IMAGENET_STD)\n",
    "transforms = tv.transforms.Compose([\n",
    "            tv.transforms.Scale(opt.scale_size),\n",
    "            tv.transforms.CenterCrop(opt.img_size),\n",
    "            tv.transforms.ToTensor(),\n",
    "            normalize\n",
    "    ])\n",
    "img_ = Image.open(opt.test_img)\n",
    "img = transforms(img_).unsqueeze(0)\n",
    "img_.resize((int(img_.width*256/img_.height),256))"
   ]
  },
  {
   "cell_type": "code",
   "execution_count": 5,
   "metadata": {},
   "outputs": [],
   "source": [
    "# 用resnet50来提取图片特征\n",
    "# 如果本地没有预训练的模型文件，会自动下载\n",
    "resnet50 = tv.models.resnet50(True).eval()\n",
    "del resnet50.fc\n",
    "resnet50.fc = lambda x:x\n",
    "if opt.use_gpu:\n",
    "    resnet50.cuda() \n",
    "    img = img.cuda()\n",
    "img_feats = resnet50(Variable(img,volatile=True))"
   ]
  },
  {
   "cell_type": "code",
   "execution_count": 6,
   "metadata": {},
   "outputs": [
    {
     "name": "stdout",
     "output_type": "stream",
     "text": [
      "一个 穿着 西装 的 男人 和 一个 穿着 裙子 的 女人 站 在 道路 上 </EOS>\r\n",
      "一个 穿着 西装 的 男人 搂 着 一个 穿着 裙子 的 女人 站 在 道路 上 </EOS>\r\n",
      "一个 穿着 西装 的 男人 和 一个 穿着 裙子 的 女人 站 在 室外 </EOS>\n"
     ]
    }
   ],
   "source": [
    "# Caption模型\n",
    "model = CaptionModel(opt,word2ix,ix2word)\n",
    "model = model.load(opt.model_ckpt).eval()\n",
    "if opt.use_gpu:\n",
    "     model.cuda()\n",
    "\n",
    "results = model.generate(img_feats.data[0])\n",
    "print('\\r\\n'.join(results))"
   ]
  }
 ],
 "metadata": {
  "kernelspec": {
   "display_name": "Python 3",
   "language": "python",
   "name": "python3"
  },
  "language_info": {
   "codemirror_mode": {
    "name": "ipython",
    "version": 3
   },
   "file_extension": ".py",
   "mimetype": "text/x-python",
   "name": "python",
   "nbconvert_exporter": "python",
   "pygments_lexer": "ipython3",
   "version": "3.6.10"
  }
 },
 "nbformat": 4,
 "nbformat_minor": 2
}
