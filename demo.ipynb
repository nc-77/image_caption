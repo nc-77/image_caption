{
 "cells": [
  {
   "cell_type": "code",
   "execution_count": 2,
   "metadata": {},
   "outputs": [
    {
     "name": "stdout",
     "output_type": "stream",
     "text": [
      "The autoreload extension is already loaded. To reload it, use:\n",
      "  %reload_ext autoreload\n",
      "The autoreload extension is already loaded. To reload it, use:\n",
      "  %reload_ext autoreload\n",
      "The autoreload extension is already loaded. To reload it, use:\n",
      "  %reload_ext autoreload\n"
     ]
    }
   ],
   "source": [
    "%load_ext autoreload\n",
    "%autoreload 2\n",
    "from main  import *\n",
    "import torch as t"
   ]
  },
  {
   "cell_type": "code",
   "execution_count": null,
   "metadata": {},
   "outputs": [],
   "source": [
    "\n",
    "class Config:\n",
    "    caption_data_path='caption.pth'# 经过预处理后的人工描述信息\n",
    "    img_path='/home/cy/caption_data/'\n",
    "    # img_path='/mnt/ht/aichallenger/raw/ai_challenger_caption_train_20170902/caption_train_images_20170902/'\n",
    "    img_feature_path = 'results.pth' # 所有图片的features,20w*2048的向量\n",
    "    scale_size = 300\n",
    "    img_size = 224 \n",
    "    batch_size=8\n",
    "    shuffle = True\n",
    "    num_workers = 4\n",
    "    rnn_hidden = 256\n",
    "    embedding_dim = 256\n",
    "    num_layers = 2\n",
    "    share_embedding_weights=False\n",
    "\n",
    "    prefix='checkpoints/caption'#模型保存前缀\n",
    "\n",
    "    env = 'caption'\n",
    "    plot_every = 10\n",
    "    debug_file = '/tmp/debugc'\n",
    "\n",
    "    model_ckpt = None # 模型断点保存路径\n",
    "    lr=1e-3\n",
    "    use_gpu=True\n",
    "    epoch = 1\n",
    "\n",
    "    #test_img = 'img/example1.jpg' "
   ]
  },
  {
   "cell_type": "code",
   "execution_count": null,
   "metadata": {},
   "outputs": [],
   "source": [
    "opt = Config()    \n",
    "opt.caption_data_path = 'caption.pth' # 原始数据\n",
    "opt.test_img = 'img/13_image.png' # 输入图片\n",
    "opt.use_gpu = False  # 是否使用GPU(没必要)\n",
    "opt.model_ckpt='caption_0914_1947' # 预训练的模型"
   ]
  },
  {
   "cell_type": "code",
   "execution_count": null,
   "metadata": {
    "scrolled": true
   },
   "outputs": [],
   "source": [
    "# 数据预处理\n",
    "data = t.load(opt.caption_data_path)\n",
    "word2ix,ix2word = data['word2ix'],data['ix2word']\n",
    "\n",
    "IMAGENET_MEAN =  [0.485, 0.456, 0.406]\n",
    "IMAGENET_STD =  [0.229, 0.224, 0.225]\n",
    "normalize =  tv.transforms.Normalize(mean=IMAGENET_MEAN,std=IMAGENET_STD)\n",
    "transforms = tv.transforms.Compose([\n",
    "            tv.transforms.Scale(opt.scale_size),\n",
    "            tv.transforms.CenterCrop(opt.img_size),\n",
    "            tv.transforms.ToTensor(),\n",
    "            normalize\n",
    "    ])\n",
    "img_ = Image.open(opt.test_img)\n",
    "img = transforms(img_).unsqueeze(0)\n",
    "img_.resize((int(img_.width*256/img_.height),256))"
   ]
  },
  {
   "cell_type": "code",
   "execution_count": null,
   "metadata": {},
   "outputs": [],
   "source": [
    "# 用resnet50来提取图片特征\n",
    "# 如果本地没有预训练的模型文件，会自动下载\n",
    "resnet50 = tv.models.resnet50(True).eval()\n",
    "del resnet50.fc\n",
    "resnet50.fc = lambda x:x\n",
    "if opt.use_gpu:\n",
    "    resnet50.cuda() \n",
    "    img = img.cuda()\n",
    "img_feats = resnet50(Variable(img,volatile=True))"
   ]
  },
  {
   "cell_type": "code",
   "execution_count": null,
   "metadata": {},
   "outputs": [],
   "source": [
    "# Caption模型\n",
    "import numpy as np\n",
    "model = CaptionModel(opt,word2ix,ix2word)\n",
    "model = model.load(opt.model_ckpt).eval()\n",
    "if opt.use_gpu:\n",
    "     model.cuda()\n",
    "results = model.generate(img_feats.data[0])\n",
    "print('\\r\\n'.join(results))"
   ]
  },
  {
   "cell_type": "code",
   "execution_count": null,
   "metadata": {},
   "outputs": [],
   "source": []
  }
 ],
 "metadata": {
  "kernelspec": {
   "display_name": "Python 3",
   "language": "python",
   "name": "python3"
  },
  "language_info": {
   "codemirror_mode": {
    "name": "ipython",
    "version": 3
   },
   "file_extension": ".py",
   "mimetype": "text/x-python",
   "name": "python",
   "nbconvert_exporter": "python",
   "pygments_lexer": "ipython3",
   "version": "3.6.12"
  }
 },
 "nbformat": 4,
 "nbformat_minor": 2
}
